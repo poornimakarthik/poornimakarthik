{
 "cells": [
  {
   "cell_type": "code",
   "execution_count": 2,
   "metadata": {},
   "outputs": [],
   "source": [
    "#set environment\n",
    "import os\n",
    "import sys\n",
    " \n",
    "os.environ[\"SPARK_HOME\"] = \"/usr/hdp/current/spark2-client\"\n",
    "os.environ[\"PYLIB\"] = os.environ[\"SPARK_HOME\"] + \"/python/lib\"\n",
    "# In below two lines, use /usr/bin/python2.7 if you want to use Python 2\n",
    "os.environ[\"PYSPARK_PYTHON\"] = \"/usr/local/anaconda/bin/python\" \n",
    "os.environ[\"PYSPARK_DRIVER_PYTHON\"] = \"/usr/local/anaconda/bin/python\"\n",
    "sys.path.insert(0, os.environ[\"PYLIB\"] +\"/py4j-0.10.4-src.zip\")\n",
    "sys.path.insert(0, os.environ[\"PYLIB\"] +\"/pyspark.zip\")"
   ]
  },
  {
   "cell_type": "code",
   "execution_count": 3,
   "metadata": {},
   "outputs": [],
   "source": [
    "#import Sparksession driver\n",
    "from pyspark.sql import SparkSession\n",
    "spark = SparkSession \\\n",
    "    .builder \\\n",
    "    .appName(\"Regression on BigMart Sales\") \\\n",
    "    .getOrCreate()"
   ]
  },
  {
   "cell_type": "code",
   "execution_count": 4,
   "metadata": {},
   "outputs": [
    {
     "data": {
      "text/plain": [
       "'2.1.1.2.6.2.0-205'"
      ]
     },
     "execution_count": 4,
     "metadata": {},
     "output_type": "execute_result"
    }
   ],
   "source": [
    "spark.version"
   ]
  },
  {
   "cell_type": "code",
   "execution_count": 5,
   "metadata": {},
   "outputs": [
    {
     "name": "stdout",
     "output_type": "stream",
     "text": [
      "+-----------+----------------+--------------------+--------------------+--------+-----------+------------------+\n",
      "|Item_Weight|Item_Fat_Content|     Item_Visibility|           Item_Type|Item_MRP|Outlet_Type| Item_Outlet_Sales|\n",
      "+-----------+----------------+--------------------+--------------------+--------+-----------+------------------+\n",
      "|        9.3|               1|         0.016047301|               Dairy|249.8092|          2|          3735.138|\n",
      "|       5.92|               2|         0.019278216|         Soft Drinks| 48.2692|          3|          443.4228|\n",
      "|       17.5|               1|         0.016760075|                Meat| 141.618|          2|           2097.27|\n",
      "|       19.2|               2| 0.06613202877895127|Fruits and Vegeta...| 182.095|          1|            732.38|\n",
      "|       8.93|               1| 0.06613202877895127|           Household| 53.8614|          2|          994.7052|\n",
      "|     10.395|               2| 0.06613202877895127|        Baking Goods| 51.4008|          3|          556.6088|\n",
      "|      13.65|               2|0.012741088999999999|         Snack Foods| 57.6588|          2|          343.5528|\n",
      "|       19.0|               1|         0.127469857|         Snack Foods|107.7622|          4|         4022.7636|\n",
      "|       16.2|               2|         0.016687114|        Frozen Foods| 96.9726|          2|         1076.5986|\n",
      "|       19.2|               2|          0.09444959|        Frozen Foods|187.8214|          2|          4710.535|\n",
      "|       11.8|               1| 0.06613202877895127|Fruits and Vegeta...| 45.5402|          2|         1516.0266|\n",
      "|       18.5|               2|         0.045463773|               Dairy|144.1102|          2|          2187.153|\n",
      "|       15.1|               2|           0.1000135|Fruits and Vegeta...|145.4786|          2|         1589.2646|\n",
      "|       17.6|               2|         0.047257328|         Snack Foods|119.6782|          2|         2145.2076|\n",
      "|      16.35|               1| 0.06802430000000001|Fruits and Vegeta...|196.4426|          2|1977.4260000000002|\n",
      "|        9.0|               2| 0.06908896099999999|           Breakfast| 56.3614|          2|         1547.3192|\n",
      "|       11.8|               1|         0.008596051|  Health and Hygiene|115.3492|          3|         1621.8888|\n",
      "|        9.0|               2| 0.06919637599999999|           Breakfast| 54.3614|          2|          718.3982|\n",
      "|       8.26|               1|         0.034237682|         Hard Drinks|113.2834|          4|2303.6679999999997|\n",
      "|      13.35|               1|          0.10249212|               Dairy|230.5352|          2|         2748.4224|\n",
      "+-----------+----------------+--------------------+--------------------+--------+-----------+------------------+\n",
      "only showing top 20 rows\n",
      "\n"
     ]
    }
   ],
   "source": [
    "BigMart = spark.read.csv('data/BigMart_copy.csv',header=True,inferSchema=True)\n",
    "BigMart.show()"
   ]
  },
  {
   "cell_type": "code",
   "execution_count": 6,
   "metadata": {},
   "outputs": [
    {
     "name": "stdout",
     "output_type": "stream",
     "text": [
      "+-----------+----------------+--------------------+--------------------+--------+-----------+------------------+-----------------+\n",
      "|Item_Weight|Item_Fat_Content|     Item_Visibility|           Item_Type|Item_MRP|Outlet_Type| Item_Outlet_Sales|Item_Type_encoded|\n",
      "+-----------+----------------+--------------------+--------------------+--------+-----------+------------------+-----------------+\n",
      "|        9.3|               1|         0.016047301|               Dairy|249.8092|          2|          3735.138|              4.0|\n",
      "|       5.92|               2|         0.019278216|         Soft Drinks| 48.2692|          3|          443.4228|              8.0|\n",
      "|       17.5|               1|         0.016760075|                Meat| 141.618|          2|           2097.27|              9.0|\n",
      "|       19.2|               2| 0.06613202877895127|Fruits and Vegeta...| 182.095|          1|            732.38|              0.0|\n",
      "|       8.93|               1| 0.06613202877895127|           Household| 53.8614|          2|          994.7052|              2.0|\n",
      "|     10.395|               2| 0.06613202877895127|        Baking Goods| 51.4008|          3|          556.6088|              6.0|\n",
      "|      13.65|               2|0.012741088999999999|         Snack Foods| 57.6588|          2|          343.5528|              1.0|\n",
      "|       19.0|               1|         0.127469857|         Snack Foods|107.7622|          4|         4022.7636|              1.0|\n",
      "|       16.2|               2|         0.016687114|        Frozen Foods| 96.9726|          2|         1076.5986|              3.0|\n",
      "|       19.2|               2|          0.09444959|        Frozen Foods|187.8214|          2|          4710.535|              3.0|\n",
      "|       11.8|               1| 0.06613202877895127|Fruits and Vegeta...| 45.5402|          2|         1516.0266|              0.0|\n",
      "|       18.5|               2|         0.045463773|               Dairy|144.1102|          2|          2187.153|              4.0|\n",
      "|       15.1|               2|           0.1000135|Fruits and Vegeta...|145.4786|          2|         1589.2646|              0.0|\n",
      "|       17.6|               2|         0.047257328|         Snack Foods|119.6782|          2|         2145.2076|              1.0|\n",
      "|      16.35|               1| 0.06802430000000001|Fruits and Vegeta...|196.4426|          2|1977.4260000000002|              0.0|\n",
      "|        9.0|               2| 0.06908896099999999|           Breakfast| 56.3614|          2|         1547.3192|             14.0|\n",
      "|       11.8|               1|         0.008596051|  Health and Hygiene|115.3492|          3|         1621.8888|              7.0|\n",
      "|        9.0|               2| 0.06919637599999999|           Breakfast| 54.3614|          2|          718.3982|             14.0|\n",
      "|       8.26|               1|         0.034237682|         Hard Drinks|113.2834|          4|2303.6679999999997|             11.0|\n",
      "|      13.35|               1|          0.10249212|               Dairy|230.5352|          2|         2748.4224|              4.0|\n",
      "+-----------+----------------+--------------------+--------------------+--------+-----------+------------------+-----------------+\n",
      "only showing top 20 rows\n",
      "\n"
     ]
    }
   ],
   "source": [
    "#Label encoder\n",
    "from pyspark.ml.feature import StringIndexer\n",
    "indexed = BigMart\n",
    "for col in [\"Item_Type\"]:\n",
    "    stringIndexer = StringIndexer(inputCol=col, outputCol=col+\"_encoded\")\n",
    "    indexed = stringIndexer.fit(indexed).transform(indexed)\n",
    "indexed.show()"
   ]
  },
  {
   "cell_type": "code",
   "execution_count": 67,
   "metadata": {},
   "outputs": [
    {
     "data": {
      "text/plain": [
       "pyspark.sql.dataframe.DataFrame"
      ]
     },
     "execution_count": 67,
     "metadata": {},
     "output_type": "execute_result"
    }
   ],
   "source": [
    "type(encoded)"
   ]
  },
  {
   "cell_type": "code",
   "execution_count": 7,
   "metadata": {},
   "outputs": [
    {
     "name": "stdout",
     "output_type": "stream",
     "text": [
      "+-----------+----------------+---------------+-----------+--------+-----------+-----------------+-----------------+--------------+\n",
      "|Item_Weight|Item_Fat_Content|Item_Visibility|  Item_Type|Item_MRP|Outlet_Type|Item_Outlet_Sales|Item_Type_encoded| Item_Type_vec|\n",
      "+-----------+----------------+---------------+-----------+--------+-----------+-----------------+-----------------+--------------+\n",
      "|        9.3|               1|    0.016047301|      Dairy|249.8092|          2|         3735.138|              4.0|(15,[4],[1.0])|\n",
      "|       5.92|               2|    0.019278216|Soft Drinks| 48.2692|          3|         443.4228|              8.0|(15,[8],[1.0])|\n",
      "|       17.5|               1|    0.016760075|       Meat| 141.618|          2|          2097.27|              9.0|(15,[9],[1.0])|\n",
      "+-----------+----------------+---------------+-----------+--------+-----------+-----------------+-----------------+--------------+\n",
      "only showing top 3 rows\n",
      "\n"
     ]
    }
   ],
   "source": [
    "#One hot encoder\n",
    "from pyspark.ml.feature import OneHotEncoder\n",
    "encoder = OneHotEncoder(inputCol=\"Item_Type_encoded\",outputCol=\"Item_Type_vec\",dropLast=True)\n",
    "encoded = encoder.transform(indexed)\n",
    "encoded.show(3)"
   ]
  },
  {
   "cell_type": "markdown",
   "metadata": {},
   "source": [
    "## CHOSSEN ONLY 2 VARIABLES SAME AS SKLEARN (as OLS SELECTED FEATURES ITEM_MRP;OUTLET_TYPE)"
   ]
  },
  {
   "cell_type": "code",
   "execution_count": 8,
   "metadata": {},
   "outputs": [
    {
     "data": {
      "text/plain": [
       "[Row(features=SparseVector(17, {0: 249.8092, 1: 2.0, 6: 1.0})),\n",
       " Row(features=SparseVector(17, {0: 48.2692, 1: 3.0, 10: 1.0})),\n",
       " Row(features=SparseVector(17, {0: 141.618, 1: 2.0, 11: 1.0}))]"
      ]
     },
     "execution_count": 8,
     "metadata": {},
     "output_type": "execute_result"
    }
   ],
   "source": [
    "from pyspark.ml.feature import VectorAssembler, StandardScaler\n",
    "assembler = VectorAssembler(inputCols=[\"Item_MRP\",\"Outlet_Type\",\"Item_Type_vec\"], \n",
    "                            outputCol=\"features\")\n",
    "feature_vec=assembler.transform(encoded)\n",
    "feature_vec.select(\"features\").take(3)"
   ]
  },
  {
   "cell_type": "code",
   "execution_count": 9,
   "metadata": {},
   "outputs": [],
   "source": [
    "# Split the data into train and test sets\n",
    "train_data, test_data = feature_vec.randomSplit([.8,.2],seed=1234)"
   ]
  },
  {
   "cell_type": "code",
   "execution_count": 10,
   "metadata": {},
   "outputs": [
    {
     "data": {
      "text/plain": [
       "[Row(Item_Weight=4.555, Item_Fat_Content=2, Item_Visibility=0.034410585, Item_Type='Frozen Foods', Item_MRP=111.3544, Outlet_Type=2, Item_Outlet_Sales=1342.2528, Item_Type_encoded=3.0, Item_Type_vec=SparseVector(15, {3: 1.0}), features=SparseVector(17, {0: 111.3544, 1: 2.0, 5: 1.0})),\n",
       " Row(Item_Weight=4.555, Item_Fat_Content=2, Item_Visibility=0.060154967999999996, Item_Type='Frozen Foods', Item_MRP=110.1544, Outlet_Type=1, Item_Outlet_Sales=111.8544, Item_Type_encoded=3.0, Item_Type_vec=SparseVector(15, {3: 1.0}), features=SparseVector(17, {0: 110.1544, 1: 1.0, 5: 1.0})),\n",
       " Row(Item_Weight=4.59, Item_Fat_Content=1, Item_Visibility=0.06613202877895127, Item_Type='Soft Drinks', Item_MRP=111.186, Outlet_Type=2, Item_Outlet_Sales=1245.046, Item_Type_encoded=8.0, Item_Type_vec=SparseVector(15, {8: 1.0}), features=SparseVector(17, {0: 111.186, 1: 2.0, 10: 1.0})),\n",
       " Row(Item_Weight=4.59, Item_Fat_Content=1, Item_Visibility=0.07043780000000001, Item_Type='Soft Drinks', Item_MRP=112.88600000000001, Outlet_Type=4, Item_Outlet_Sales=2942.836, Item_Type_encoded=8.0, Item_Type_vec=SparseVector(15, {8: 1.0}), features=SparseVector(17, {0: 112.886, 1: 4.0, 10: 1.0})),\n",
       " Row(Item_Weight=4.59, Item_Fat_Content=1, Item_Visibility=0.070721656, Item_Type='Soft Drinks', Item_MRP=113.286, Outlet_Type=2, Item_Outlet_Sales=1471.418, Item_Type_encoded=8.0, Item_Type_vec=SparseVector(15, {8: 1.0}), features=SparseVector(17, {0: 113.286, 1: 2.0, 10: 1.0}))]"
      ]
     },
     "execution_count": 10,
     "metadata": {},
     "output_type": "execute_result"
    }
   ],
   "source": [
    "train_data.head(5)"
   ]
  },
  {
   "cell_type": "code",
   "execution_count": 11,
   "metadata": {},
   "outputs": [
    {
     "data": {
      "text/plain": [
       "[Row(scaledFeatures=DenseVector([-0.4855, -0.2511, -0.4163, -0.4017, -0.346, 3.0436, -0.2957, -0.2903, -0.2877, -0.249, -0.2354, -0.2326, -0.1725, -0.1618, -0.1416, -0.1321, -0.1157])),\n",
       " Row(scaledFeatures=DenseVector([-0.5048, -1.5168, -0.4163, -0.4017, -0.346, 3.0436, -0.2957, -0.2903, -0.2877, -0.249, -0.2354, -0.2326, -0.1725, -0.1618, -0.1416, -0.1321, -0.1157])),\n",
       " Row(scaledFeatures=DenseVector([-0.4882, -0.2511, -0.4163, -0.4017, -0.346, -0.3285, -0.2957, -0.2903, -0.2877, -0.249, 4.2469, -0.2326, -0.1725, -0.1618, -0.1416, -0.1321, -0.1157]))]"
      ]
     },
     "execution_count": 11,
     "metadata": {},
     "output_type": "execute_result"
    }
   ],
   "source": [
    "from pyspark.ml.feature import StandardScaler\n",
    "\n",
    "scaler = StandardScaler(inputCol=\"features\", outputCol=\"scaledFeatures\",\n",
    "                        withStd=True, withMean=True)\n",
    "scalerModel = scaler.fit(train_data)\n",
    "scaledData = scalerModel.transform(train_data)\n",
    "scaledData_test = scalerModel.transform(test_data)\n",
    "scaledData.select(\"scaledFeatures\").take(3)"
   ]
  },
  {
   "cell_type": "markdown",
   "metadata": {},
   "source": [
    "# APPLYING RANDOMFOREST REGRESSOR"
   ]
  },
  {
   "cell_type": "code",
   "execution_count": 13,
   "metadata": {},
   "outputs": [
    {
     "name": "stdout",
     "output_type": "stream",
     "text": [
      "root\n",
      " |-- Item_Weight: double (nullable = true)\n",
      " |-- Item_Fat_Content: integer (nullable = true)\n",
      " |-- Item_Visibility: double (nullable = true)\n",
      " |-- Item_Type: string (nullable = true)\n",
      " |-- Item_MRP: double (nullable = true)\n",
      " |-- Outlet_Type: integer (nullable = true)\n",
      " |-- Item_Outlet_Sales: double (nullable = true)\n",
      " |-- Item_Type_encoded: double (nullable = true)\n",
      " |-- Item_Type_vec: vector (nullable = true)\n",
      " |-- features: vector (nullable = true)\n",
      " |-- prediction: double (nullable = true)\n",
      "\n"
     ]
    }
   ],
   "source": [
    "from pyspark.ml.regression import RandomForestRegressor\n",
    "\n",
    "# Create initial LogisticRegression model\n",
    "Rf = RandomForestRegressor(labelCol=\"Item_Outlet_Sales\", featuresCol=\"features\")\n",
    "\n",
    "# Train model with Training Data\n",
    "RfModel = Rf.fit(train_data)\n",
    "predictions = RfModel.transform(test_data)\n",
    "predictions.printSchema()"
   ]
  },
  {
   "cell_type": "code",
   "execution_count": 14,
   "metadata": {},
   "outputs": [
    {
     "name": "stdout",
     "output_type": "stream",
     "text": [
      "root\n",
      " |-- Item_Weight: double (nullable = true)\n",
      " |-- Item_Fat_Content: integer (nullable = true)\n",
      " |-- Item_Visibility: double (nullable = true)\n",
      " |-- Item_Type: string (nullable = true)\n",
      " |-- Item_MRP: double (nullable = true)\n",
      " |-- Outlet_Type: integer (nullable = true)\n",
      " |-- Item_Outlet_Sales: double (nullable = true)\n",
      " |-- Item_Type_encoded: double (nullable = true)\n",
      " |-- Item_Type_vec: vector (nullable = true)\n",
      " |-- features: vector (nullable = true)\n",
      " |-- prediction: double (nullable = true)\n",
      "\n"
     ]
    }
   ],
   "source": [
    "from pyspark.ml.evaluation import RegressionEvaluator\n",
    "\n",
    "RfModel1 = Rf.fit(train_data)\n",
    "pred = RfModel1.transform(train_data)\n",
    "pred.printSchema()"
   ]
  },
  {
   "cell_type": "code",
   "execution_count": 15,
   "metadata": {},
   "outputs": [
    {
     "data": {
      "text/plain": [
       "0.5124673016905278"
      ]
     },
     "execution_count": 15,
     "metadata": {},
     "output_type": "execute_result"
    }
   ],
   "source": [
    "from pyspark.ml.evaluation import RegressionEvaluator\n",
    "\n",
    "evaluator = RegressionEvaluator(predictionCol='prediction', labelCol='Item_Outlet_Sales', metricName='r2')\n",
    "evaluator.evaluate(predictions)"
   ]
  },
  {
   "cell_type": "code",
   "execution_count": 16,
   "metadata": {},
   "outputs": [
    {
     "data": {
      "text/plain": [
       "0.5124673016905278"
      ]
     },
     "execution_count": 16,
     "metadata": {},
     "output_type": "execute_result"
    }
   ],
   "source": [
    "from pyspark.ml.evaluation import RegressionEvaluator\n",
    "\n",
    "evaluator = RegressionEvaluator(predictionCol='prediction', labelCol='Item_Outlet_Sales', metricName='r2')\n",
    "evaluator.evaluate(predictions)"
   ]
  },
  {
   "cell_type": "code",
   "execution_count": 17,
   "metadata": {},
   "outputs": [
    {
     "name": "stdout",
     "output_type": "stream",
     "text": [
      "R2 TEST SCORE  0.5124673016905278\n",
      "MAE TEST SCORE  843.5182435361971\n",
      "RMSE TEST SCORE  1159.6815087665502\n"
     ]
    }
   ],
   "source": [
    "from pyspark.ml.evaluation import RegressionEvaluator\n",
    "\n",
    "evaluator = RegressionEvaluator(predictionCol='prediction', labelCol='Item_Outlet_Sales')\n",
    "print(\"R2 TEST SCORE \", evaluator.evaluate(predictions,{evaluator.metricName: \"r2\"}))\n",
    "print(\"MAE TEST SCORE \", evaluator.evaluate(predictions,{evaluator.metricName: \"mae\"}))\n",
    "print(\"RMSE TEST SCORE \" ,evaluator.evaluate(predictions,{evaluator.metricName: \"rmse\"}))"
   ]
  },
  {
   "cell_type": "code",
   "execution_count": 20,
   "metadata": {},
   "outputs": [],
   "source": [
    "from pyspark.ml.tuning import ParamGridBuilder, CrossValidator\n",
    "\n",
    "paramGrid = (ParamGridBuilder()\\\n",
    "             .addGrid(Rf.numTrees,[10,20])\\\n",
    "             .addGrid(Rf.maxDepth,[4,5,6])\\\n",
    "             .build())\n",
    "\n",
    "# Create 4-fold CrossValidator\n",
    "cv = CrossValidator(estimator=Rf, estimatorParamMaps=paramGrid, evaluator=evaluator, numFolds=5)\n",
    "\n",
    "cvModel = cv.fit(train_data)\n"
   ]
  },
  {
   "cell_type": "code",
   "execution_count": 22,
   "metadata": {},
   "outputs": [
    {
     "data": {
      "text/plain": [
       "[(1276.5033715290494,\n",
       "  {Param(parent='RandomForestRegressor_4d6a8e29a503c68e2330', name='numTrees', doc='Number of trees to train (>= 1).'): 10,\n",
       "   Param(parent='RandomForestRegressor_4d6a8e29a503c68e2330', name='maxDepth', doc='Maximum depth of the tree. (>= 0) E.g., depth 0 means 1 leaf node; depth 1 means 1 internal node + 2 leaf nodes.'): 4}),\n",
       " (1226.4313609687597,\n",
       "  {Param(parent='RandomForestRegressor_4d6a8e29a503c68e2330', name='numTrees', doc='Number of trees to train (>= 1).'): 10,\n",
       "   Param(parent='RandomForestRegressor_4d6a8e29a503c68e2330', name='maxDepth', doc='Maximum depth of the tree. (>= 0) E.g., depth 0 means 1 leaf node; depth 1 means 1 internal node + 2 leaf nodes.'): 5}),\n",
       " (1183.2062686650086,\n",
       "  {Param(parent='RandomForestRegressor_4d6a8e29a503c68e2330', name='numTrees', doc='Number of trees to train (>= 1).'): 10,\n",
       "   Param(parent='RandomForestRegressor_4d6a8e29a503c68e2330', name='maxDepth', doc='Maximum depth of the tree. (>= 0) E.g., depth 0 means 1 leaf node; depth 1 means 1 internal node + 2 leaf nodes.'): 6}),\n",
       " (1252.9616057487533,\n",
       "  {Param(parent='RandomForestRegressor_4d6a8e29a503c68e2330', name='numTrees', doc='Number of trees to train (>= 1).'): 20,\n",
       "   Param(parent='RandomForestRegressor_4d6a8e29a503c68e2330', name='maxDepth', doc='Maximum depth of the tree. (>= 0) E.g., depth 0 means 1 leaf node; depth 1 means 1 internal node + 2 leaf nodes.'): 4}),\n",
       " (1197.4687250919897,\n",
       "  {Param(parent='RandomForestRegressor_4d6a8e29a503c68e2330', name='numTrees', doc='Number of trees to train (>= 1).'): 20,\n",
       "   Param(parent='RandomForestRegressor_4d6a8e29a503c68e2330', name='maxDepth', doc='Maximum depth of the tree. (>= 0) E.g., depth 0 means 1 leaf node; depth 1 means 1 internal node + 2 leaf nodes.'): 5}),\n",
       " (1154.056130979258,\n",
       "  {Param(parent='RandomForestRegressor_4d6a8e29a503c68e2330', name='numTrees', doc='Number of trees to train (>= 1).'): 20,\n",
       "   Param(parent='RandomForestRegressor_4d6a8e29a503c68e2330', name='maxDepth', doc='Maximum depth of the tree. (>= 0) E.g., depth 0 means 1 leaf node; depth 1 means 1 internal node + 2 leaf nodes.'): 6})]"
      ]
     },
     "execution_count": 22,
     "metadata": {},
     "output_type": "execute_result"
    }
   ],
   "source": [
    "list(zip(cvModel.avgMetrics, cvModel.getEstimatorParamMaps()))"
   ]
  },
  {
   "cell_type": "code",
   "execution_count": 23,
   "metadata": {},
   "outputs": [
    {
     "data": {
      "text/plain": [
       "(1276.5033715290494,\n",
       " {Param(parent='RandomForestRegressor_4d6a8e29a503c68e2330', name='numTrees', doc='Number of trees to train (>= 1).'): 10,\n",
       "  Param(parent='RandomForestRegressor_4d6a8e29a503c68e2330', name='maxDepth', doc='Maximum depth of the tree. (>= 0) E.g., depth 0 means 1 leaf node; depth 1 means 1 internal node + 2 leaf nodes.'): 4})"
      ]
     },
     "execution_count": 23,
     "metadata": {},
     "output_type": "execute_result"
    }
   ],
   "source": [
    "#Best Model Params\n",
    "score_params_list = list(zip(cvModel.avgMetrics, cvModel.getEstimatorParamMaps()))\n",
    "max(score_params_list,key=lambda item:item[0])"
   ]
  },
  {
   "cell_type": "code",
   "execution_count": 25,
   "metadata": {},
   "outputs": [],
   "source": [
    "predictions = cvModel.bestModel.transform(test_data)"
   ]
  },
  {
   "cell_type": "markdown",
   "metadata": {},
   "source": [
    "##### SCORE AFTER TUNNING"
   ]
  },
  {
   "cell_type": "code",
   "execution_count": 26,
   "metadata": {},
   "outputs": [
    {
     "name": "stdout",
     "output_type": "stream",
     "text": [
      "R2 TEST SCORE  0.5458342370654748\n",
      "MAE TEST SCORE  805.100588718376\n",
      "RMSE TEST SCORE  1119.2936863547534\n"
     ]
    }
   ],
   "source": [
    "from pyspark.ml.evaluation import RegressionEvaluator\n",
    "\n",
    "evaluator = RegressionEvaluator(predictionCol='prediction', labelCol='Item_Outlet_Sales')\n",
    "print(\"R2 TEST SCORE \", evaluator.evaluate(predictions,{evaluator.metricName: \"r2\"}))\n",
    "print(\"MAE TEST SCORE \", evaluator.evaluate(predictions,{evaluator.metricName: \"mae\"}))\n",
    "print(\"RMSE TEST SCORE \" ,evaluator.evaluate(predictions,{evaluator.metricName: \"rmse\"}))"
   ]
  },
  {
   "cell_type": "markdown",
   "metadata": {},
   "source": [
    "# RANDOMFOREST REGRESSION on SKLEARN gave R2 SCORE 60% ,in PYSPARK RESULATED in LITTLE LOW SCORE 54%  AFTER TUNNING "
   ]
  }
 ],
 "metadata": {
  "kernelspec": {
   "display_name": "Python 3",
   "language": "python",
   "name": "python3"
  },
  "language_info": {
   "codemirror_mode": {
    "name": "ipython",
    "version": 3
   },
   "file_extension": ".py",
   "mimetype": "text/x-python",
   "name": "python",
   "nbconvert_exporter": "python",
   "pygments_lexer": "ipython3",
   "version": "3.6.8"
  },
  "toc": {
   "base_numbering": 1,
   "nav_menu": {},
   "number_sections": true,
   "sideBar": true,
   "skip_h1_title": false,
   "title_cell": "Table of Contents",
   "title_sidebar": "Contents",
   "toc_cell": false,
   "toc_position": {},
   "toc_section_display": true,
   "toc_window_display": false
  }
 },
 "nbformat": 4,
 "nbformat_minor": 2
}
